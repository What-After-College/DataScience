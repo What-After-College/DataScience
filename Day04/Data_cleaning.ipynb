{
  "nbformat": 4,
  "nbformat_minor": 0,
  "metadata": {
    "colab": {
      "name": "Data_cleaning.ipynb",
      "provenance": []
    },
    "kernelspec": {
      "name": "python3",
      "display_name": "Python 3"
    }
  },
  "cells": [
    {
      "cell_type": "markdown",
      "metadata": {
        "id": "DoQXpM2LbEMB",
        "colab_type": "text"
      },
      "source": [
        "# Data Cleaning\n",
        "### Why clean data?\n",
        "The data that we receive and use is not perfect. Numerous factors such as data collection from multiple sources, or data corruption while storing or retrieving data, human errors in entering data, data loss while transferring data on some network, etc, can lead to incomplete, inconsistent, and incorrect data. If we use data as received in our analysis, then we will perform incorrect analysis and any conclusion drawn from the data will be wrong. Therefore, data cleaning is a necessary step before doing any analysis on the data.\n",
        "\n",
        "Data cleaning or cleansing is the process of detecting and correcting inconsistent, incorrect, and extraneous data. Data cleaning involves dealing with\n",
        "\n",
        "* Missing data\n",
        "* Duplicated data\n",
        "* Outliers in the data\n",
        "* Extra data that might not be needed\n",
        "* Inconsistent data\n",
        "* Converting data into a standard\n"
      ]
    },
    {
      "cell_type": "markdown",
      "metadata": {
        "id": "1RUTozVublfB",
        "colab_type": "text"
      },
      "source": [
        "### Understanding Data types\n",
        "![data type](https://i.ibb.co/g3k7pj7/image.png)\n",
        "\n"
      ]
    },
    {
      "cell_type": "markdown",
      "metadata": {
        "id": "QxqIM_MbqoBv",
        "colab_type": "text"
      },
      "source": [
        "### Handling Missing Value\n",
        "\n",
        "https://machinelearningmastery.com/handle-missing-data-python/\n",
        "\n",
        "https://www.youtube.com/playlist?list=PLE-8p-CwnFPuOjFcbnXLFvSQaHFK3ymUW\n",
        "\n",
        "\n"
      ]
    },
    {
      "cell_type": "markdown",
      "metadata": {
        "id": "QqmZgfhhpPQW",
        "colab_type": "text"
      },
      "source": [
        "\n",
        "\n",
        "### Handling Missing Values\n",
        "Deleting Rows\n",
        "\n",
        "Replacing With Mean/Median/Mode\n",
        "\n",
        "Assigning An Unique Category\n",
        "\n",
        "Predicting The Missing Values\n",
        "\n",
        "Using Algorithms Which Support Missing Values\n",
        "\n"
      ]
    },
    {
      "cell_type": "code",
      "metadata": {
        "id": "9NSCFL2ipEcc",
        "colab_type": "code",
        "colab": {}
      },
      "source": [
        ""
      ],
      "execution_count": null,
      "outputs": []
    },
    {
      "cell_type": "markdown",
      "metadata": {
        "id": "dOK6E0HHrLI5",
        "colab_type": "text"
      },
      "source": [
        "### Handling incosistent data"
      ]
    },
    {
      "cell_type": "markdown",
      "metadata": {
        "id": "bwOTTEYrsAjh",
        "colab_type": "text"
      },
      "source": [
        "### Handling Outlier\n",
        "#### What are outliers?\n",
        "\n",
        "Outliers are observations that are significantly distant from other observations. These do not follow the general trend of the data. Outliers can indicate variation or error in the data. Outliers in a single variable/column are called univariate while outliers in multiple variables/columns are called multivariate.\n",
        "\n",
        "#### **Sources of outliers**\n",
        "\n",
        "Outliers can be caused by a variety of reasons. Some common ones are:\n",
        "\n",
        "Errors in entering data.\n",
        "\n",
        "Errors in measuring data, e.g., errors in the measuring instrument.\n",
        "Errors in collecting and merging data from multiple sources.\n",
        "Errors in processing data.\n",
        "Natural variance because of some unknown reason.\n",
        "#### **Types of outliers**\n",
        "\n",
        "Outliers can be classified into three broad categories:\n",
        "\n",
        "1. Point or Global outliers #\n",
        "These are observations that deviate from all of the other observations, e.g., if the temperature is recorded as 100 degrees Celsius, or a person who usually spends $100 in a week spends $500 this week.\n",
        "\n",
        "![alt text](https://i.ibb.co/8jwDx6N/image.png)\n",
        "\n",
        "2. Contextual or Conditional outliers #\n",
        "These are data points that are not outliers globally, but are outliers in their own context. If we look at a subset of the data, then we are looking in a context.\n",
        "For instance, a sudden unusual temperature drop in the summer season is considered a contextual outlier where the context is the summer season.\n",
        "Another example could be if the price of a good is $15 and its price falls below $10 during the Christmas period. If its price falls below $10 in July, then that would be a contextual outlier with the month of July being the context.\n",
        "\n",
        "3. Collective outliers \n",
        "These are a group of observations that are outliers globally from the rest of the observations but are not outliers within the group. An example could be a sudden increase in stock transactions of a particular company during a month or unusual delays in shipping orders over a period of three days.\n",
        "\n",
        "\n",
        "![alt text](https://i.ibb.co/xmpVc7D/image.png)\n",
        "\n"
      ]
    },
    {
      "cell_type": "markdown",
      "metadata": {
        "id": "9Mk6PhHguXX3",
        "colab_type": "text"
      },
      "source": [
        "### Detecting Outlier\n",
        "\n",
        "Outlier detection\n",
        "* Box plots and Quantile ranges\n",
        "* Scatter plots\n",
        "* Z - Score\n",
        "\n",
        "https://medium.com/@swethalakshmanan14/outlier-detection-and-treatment-a-beginners-guide-c44af0699754\n",
        "\n",
        "outlier detection playlist\n",
        "\n",
        "https://www.youtube.com/playlist?list=PLeo1K3hjS3ut5olrDIeVXk9N3Q7mKhDxO\n"
      ]
    },
    {
      "cell_type": "markdown",
      "metadata": {
        "id": "5tgvCCJCvhcX",
        "colab_type": "text"
      },
      "source": [
        "\n",
        "# Kaggle Introduction\n",
        "\n",
        "visit Kaggle Notebook show thwm different areas of website\n",
        "\n",
        "## competetion Time\n",
        "\n",
        "## Kaggle Notebook for data analysis of titanic dataset\n",
        "# Now go for kaggle Notebook\n",
        "https://colab.research.google.com/drive/1vUthOFMzTV3uDxzkquIijtDzPtmyHnrc?usp=sharing"
      ]
    },
    {
      "cell_type": "code",
      "metadata": {
        "id": "ubw0TXzdvqlU",
        "colab_type": "code",
        "colab": {}
      },
      "source": [
        ""
      ],
      "execution_count": null,
      "outputs": []
    }
  ]
}